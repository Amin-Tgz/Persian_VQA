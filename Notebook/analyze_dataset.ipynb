{
 "cells": [
  {
   "cell_type": "markdown",
   "metadata": {},
   "source": [
    "## Packages"
   ]
  },
  {
   "cell_type": "markdown",
   "metadata": {},
   "source": [
    "Let's first import all the packages that we will need during this file."
   ]
  },
  {
   "cell_type": "code",
   "execution_count": 36,
   "metadata": {},
   "outputs": [],
   "source": [
    "import os\n",
    "import json\n",
    "import heapq\n",
    "import numpy as np\n",
    "import pandas as pd\n",
    "import seaborn as sns\n",
    "import arabic_reshaper\n",
    "import matplotlib.pyplot as plt\n",
    "from bidi.algorithm import get_display\n",
    "from sklearn.preprocessing import LabelBinarizer\n",
    "from matplotlib.ticker import NullFormatter\n",
    "sns.set()"
   ]
  },
  {
   "cell_type": "markdown",
   "metadata": {},
   "source": [
    "## GoogLe Translation"
   ]
  },
  {
   "cell_type": "markdown",
   "metadata": {},
   "source": [
    "Before run the below cells, please, extract files that exist in **`\"/Dataset/Google.rar\"`** and insert these files in **`\"/Dataset/Google/\"`**."
   ]
  },
  {
   "cell_type": "markdown",
   "metadata": {},
   "source": [
    "### Loading Questions and Annotations"
   ]
  },
  {
   "cell_type": "code",
   "execution_count": 37,
   "metadata": {},
   "outputs": [],
   "source": [
    "question_file_path = '..\\Dataset\\Google\\google-train.json'\n",
    "annotation_file_path = '..\\Dataset\\Google\\google-train-annotations.json'\n",
    "\n",
    "questions = json.load(open(question_file_path, encoding='utf-8'))\n",
    "questions = questions[\"questions\"]\n",
    "\n",
    "annotations = json.load(open(annotation_file_path, encoding='utf-8'))\n",
    "annotations = annotations[\"annotations\"]"
   ]
  },
  {
   "cell_type": "code",
   "execution_count": 38,
   "metadata": {},
   "outputs": [
    {
     "name": "stdout",
     "output_type": "stream",
     "text": [
      "Total Number Questions is :  248349\n"
     ]
    }
   ],
   "source": [
    "print(\"Total Number Questions is : \", len(questions))"
   ]
  },
  {
   "cell_type": "code",
   "execution_count": 39,
   "metadata": {},
   "outputs": [
    {
     "data": {
      "text/html": [
       "<div>\n",
       "<style scoped>\n",
       "    .dataframe tbody tr th:only-of-type {\n",
       "        vertical-align: middle;\n",
       "    }\n",
       "\n",
       "    .dataframe tbody tr th {\n",
       "        vertical-align: top;\n",
       "    }\n",
       "\n",
       "    .dataframe thead th {\n",
       "        text-align: right;\n",
       "    }\n",
       "</style>\n",
       "<table border=\"1\" class=\"dataframe\">\n",
       "  <thead>\n",
       "    <tr style=\"text-align: right;\">\n",
       "      <th></th>\n",
       "      <th>image_id</th>\n",
       "      <th>question</th>\n",
       "      <th>question_id</th>\n",
       "    </tr>\n",
       "  </thead>\n",
       "  <tbody>\n",
       "    <tr>\n",
       "      <th>0</th>\n",
       "      <td>487025</td>\n",
       "      <td>صندلی نیمکت چه شکلی است؟</td>\n",
       "      <td>4870250</td>\n",
       "    </tr>\n",
       "    <tr>\n",
       "      <th>1</th>\n",
       "      <td>487025</td>\n",
       "      <td>سایه هست؟</td>\n",
       "      <td>4870251</td>\n",
       "    </tr>\n",
       "    <tr>\n",
       "      <th>2</th>\n",
       "      <td>487025</td>\n",
       "      <td>آیا این یک نیمکت یا نیمکت چند است؟</td>\n",
       "      <td>4870252</td>\n",
       "    </tr>\n",
       "    <tr>\n",
       "      <th>3</th>\n",
       "      <td>78077</td>\n",
       "      <td>آیا این یک قطار مدرن است؟</td>\n",
       "      <td>780770</td>\n",
       "    </tr>\n",
       "    <tr>\n",
       "      <th>4</th>\n",
       "      <td>78077</td>\n",
       "      <td>نوار قطار چه رنگی است؟</td>\n",
       "      <td>780771</td>\n",
       "    </tr>\n",
       "  </tbody>\n",
       "</table>\n",
       "</div>"
      ],
      "text/plain": [
       "   image_id                            question  question_id\n",
       "0    487025            صندلی نیمکت چه شکلی است؟      4870250\n",
       "1    487025                           سایه هست؟      4870251\n",
       "2    487025  آیا این یک نیمکت یا نیمکت چند است؟      4870252\n",
       "3     78077           آیا این یک قطار مدرن است؟       780770\n",
       "4     78077              نوار قطار چه رنگی است؟       780771"
      ]
     },
     "execution_count": 39,
     "metadata": {},
     "output_type": "execute_result"
    }
   ],
   "source": [
    "questions_df = pd.DataFrame(questions)\n",
    "questions_df.head(5)"
   ]
  },
  {
   "cell_type": "code",
   "execution_count": 40,
   "metadata": {},
   "outputs": [
    {
     "data": {
      "text/html": [
       "<div>\n",
       "<style scoped>\n",
       "    .dataframe tbody tr th:only-of-type {\n",
       "        vertical-align: middle;\n",
       "    }\n",
       "\n",
       "    .dataframe tbody tr th {\n",
       "        vertical-align: top;\n",
       "    }\n",
       "\n",
       "    .dataframe thead th {\n",
       "        text-align: right;\n",
       "    }\n",
       "</style>\n",
       "<table border=\"1\" class=\"dataframe\">\n",
       "  <thead>\n",
       "    <tr style=\"text-align: right;\">\n",
       "      <th></th>\n",
       "      <th>answer_type</th>\n",
       "      <th>answers</th>\n",
       "      <th>image_id</th>\n",
       "      <th>multiple_choice_answer</th>\n",
       "      <th>question_id</th>\n",
       "      <th>question_type</th>\n",
       "    </tr>\n",
       "  </thead>\n",
       "  <tbody>\n",
       "    <tr>\n",
       "      <th>0</th>\n",
       "      <td>other</td>\n",
       "      <td>[{'answer': 'بیضی', 'answer_confidence': 'yes'...</td>\n",
       "      <td>487025</td>\n",
       "      <td>منحنی</td>\n",
       "      <td>4870250</td>\n",
       "      <td>what</td>\n",
       "    </tr>\n",
       "    <tr>\n",
       "      <th>1</th>\n",
       "      <td>yes/no</td>\n",
       "      <td>[{'answer': 'آره', 'answer_confidence': 'yes',...</td>\n",
       "      <td>487025</td>\n",
       "      <td>آره</td>\n",
       "      <td>4870251</td>\n",
       "      <td>is there a</td>\n",
       "    </tr>\n",
       "    <tr>\n",
       "      <th>2</th>\n",
       "      <td>other</td>\n",
       "      <td>[{'answer': '1', 'answer_confidence': 'yes', '...</td>\n",
       "      <td>487025</td>\n",
       "      <td>1</td>\n",
       "      <td>4870252</td>\n",
       "      <td>is this</td>\n",
       "    </tr>\n",
       "    <tr>\n",
       "      <th>3</th>\n",
       "      <td>yes/no</td>\n",
       "      <td>[{'answer': 'نه', 'answer_confidence': 'yes', ...</td>\n",
       "      <td>78077</td>\n",
       "      <td>نه</td>\n",
       "      <td>780770</td>\n",
       "      <td>is this a</td>\n",
       "    </tr>\n",
       "    <tr>\n",
       "      <th>4</th>\n",
       "      <td>other</td>\n",
       "      <td>[{'answer': 'سفید', 'answer_confidence': 'yes'...</td>\n",
       "      <td>78077</td>\n",
       "      <td>سفید</td>\n",
       "      <td>780771</td>\n",
       "      <td>what color is the</td>\n",
       "    </tr>\n",
       "  </tbody>\n",
       "</table>\n",
       "</div>"
      ],
      "text/plain": [
       "  answer_type                                            answers  image_id  \\\n",
       "0       other  [{'answer': 'بیضی', 'answer_confidence': 'yes'...    487025   \n",
       "1      yes/no  [{'answer': 'آره', 'answer_confidence': 'yes',...    487025   \n",
       "2       other  [{'answer': '1', 'answer_confidence': 'yes', '...    487025   \n",
       "3      yes/no  [{'answer': 'نه', 'answer_confidence': 'yes', ...     78077   \n",
       "4       other  [{'answer': 'سفید', 'answer_confidence': 'yes'...     78077   \n",
       "\n",
       "  multiple_choice_answer  question_id      question_type  \n",
       "0                  منحنی      4870250               what  \n",
       "1                    آره      4870251         is there a  \n",
       "2                      1      4870252            is this  \n",
       "3                     نه       780770          is this a  \n",
       "4                   سفید       780771  what color is the  "
      ]
     },
     "execution_count": 40,
     "metadata": {},
     "output_type": "execute_result"
    }
   ],
   "source": [
    "annotations_df = pd.DataFrame(annotations)\n",
    "annotations_df.head(5)"
   ]
  },
  {
   "cell_type": "markdown",
   "metadata": {},
   "source": [
    "### Merging Questions and Annotations"
   ]
  },
  {
   "cell_type": "code",
   "execution_count": 41,
   "metadata": {},
   "outputs": [
    {
     "data": {
      "text/html": [
       "<div>\n",
       "<style scoped>\n",
       "    .dataframe tbody tr th:only-of-type {\n",
       "        vertical-align: middle;\n",
       "    }\n",
       "\n",
       "    .dataframe tbody tr th {\n",
       "        vertical-align: top;\n",
       "    }\n",
       "\n",
       "    .dataframe thead th {\n",
       "        text-align: right;\n",
       "    }\n",
       "</style>\n",
       "<table border=\"1\" class=\"dataframe\">\n",
       "  <thead>\n",
       "    <tr style=\"text-align: right;\">\n",
       "      <th></th>\n",
       "      <th>image_id</th>\n",
       "      <th>question</th>\n",
       "      <th>question_id</th>\n",
       "      <th>answer_type</th>\n",
       "      <th>answers</th>\n",
       "      <th>multiple_choice_answer</th>\n",
       "      <th>question_type</th>\n",
       "    </tr>\n",
       "  </thead>\n",
       "  <tbody>\n",
       "    <tr>\n",
       "      <th>0</th>\n",
       "      <td>487025</td>\n",
       "      <td>صندلی نیمکت چه شکلی است؟</td>\n",
       "      <td>4870250</td>\n",
       "      <td>other</td>\n",
       "      <td>[{'answer': 'بیضی', 'answer_confidence': 'yes'...</td>\n",
       "      <td>منحنی</td>\n",
       "      <td>what</td>\n",
       "    </tr>\n",
       "    <tr>\n",
       "      <th>1</th>\n",
       "      <td>487025</td>\n",
       "      <td>سایه هست؟</td>\n",
       "      <td>4870251</td>\n",
       "      <td>yes/no</td>\n",
       "      <td>[{'answer': 'آره', 'answer_confidence': 'yes',...</td>\n",
       "      <td>آره</td>\n",
       "      <td>is there a</td>\n",
       "    </tr>\n",
       "    <tr>\n",
       "      <th>2</th>\n",
       "      <td>487025</td>\n",
       "      <td>آیا این یک نیمکت یا نیمکت چند است؟</td>\n",
       "      <td>4870252</td>\n",
       "      <td>other</td>\n",
       "      <td>[{'answer': '1', 'answer_confidence': 'yes', '...</td>\n",
       "      <td>1</td>\n",
       "      <td>is this</td>\n",
       "    </tr>\n",
       "    <tr>\n",
       "      <th>3</th>\n",
       "      <td>78077</td>\n",
       "      <td>آیا این یک قطار مدرن است؟</td>\n",
       "      <td>780770</td>\n",
       "      <td>yes/no</td>\n",
       "      <td>[{'answer': 'نه', 'answer_confidence': 'yes', ...</td>\n",
       "      <td>نه</td>\n",
       "      <td>is this a</td>\n",
       "    </tr>\n",
       "    <tr>\n",
       "      <th>4</th>\n",
       "      <td>78077</td>\n",
       "      <td>نوار قطار چه رنگی است؟</td>\n",
       "      <td>780771</td>\n",
       "      <td>other</td>\n",
       "      <td>[{'answer': 'سفید', 'answer_confidence': 'yes'...</td>\n",
       "      <td>سفید</td>\n",
       "      <td>what color is the</td>\n",
       "    </tr>\n",
       "  </tbody>\n",
       "</table>\n",
       "</div>"
      ],
      "text/plain": [
       "   image_id                            question  question_id answer_type  \\\n",
       "0    487025            صندلی نیمکت چه شکلی است؟      4870250       other   \n",
       "1    487025                           سایه هست؟      4870251      yes/no   \n",
       "2    487025  آیا این یک نیمکت یا نیمکت چند است؟      4870252       other   \n",
       "3     78077           آیا این یک قطار مدرن است؟       780770      yes/no   \n",
       "4     78077              نوار قطار چه رنگی است؟       780771       other   \n",
       "\n",
       "                                             answers multiple_choice_answer  \\\n",
       "0  [{'answer': 'بیضی', 'answer_confidence': 'yes'...                  منحنی   \n",
       "1  [{'answer': 'آره', 'answer_confidence': 'yes',...                    آره   \n",
       "2  [{'answer': '1', 'answer_confidence': 'yes', '...                      1   \n",
       "3  [{'answer': 'نه', 'answer_confidence': 'yes', ...                     نه   \n",
       "4  [{'answer': 'سفید', 'answer_confidence': 'yes'...                   سفید   \n",
       "\n",
       "       question_type  \n",
       "0               what  \n",
       "1         is there a  \n",
       "2            is this  \n",
       "3          is this a  \n",
       "4  what color is the  "
      ]
     },
     "execution_count": 41,
     "metadata": {},
     "output_type": "execute_result"
    }
   ],
   "source": [
    "data = pd.merge(questions_df,\n",
    "                annotations_df,\n",
    "                how='inner',\n",
    "                left_on=['image_id', 'question_id'],\n",
    "                right_on=['image_id', 'question_id'])\n",
    "data.head(5)"
   ]
  },
  {
   "cell_type": "markdown",
   "metadata": {},
   "source": [
    "### Questions and Answers Distribution"
   ]
  },
  {
   "cell_type": "code",
   "execution_count": 42,
   "metadata": {},
   "outputs": [
    {
     "data": {
      "image/png": "[encoded data removed]",
      "text/plain": [
       "<Figure size 432x288 with 1 Axes>"
      ]
     },
     "metadata": {},
     "output_type": "display_data"
    }
   ],
   "source": [
    "sns.countplot(data[\"question\"].apply(lambda x: len(x.split())).values)\n",
    "plt.title(\"Length of the questions vs Distrubution(Google Translation)\")\n",
    "plt.xlabel(\"Length of the questions\")\n",
    "plt.ylabel(\"Distrubution\")\n",
    "plt.grid(True)\n",
    "plt.xticks(rotation=90)\n",
    "plt.show()"
   ]
  },
  {
   "cell_type": "code",
   "execution_count": 43,
   "metadata": {},
   "outputs": [
    {
     "data": {
      "image/png": "[encoded data removed]",
      "text/plain": [
       "<Figure size 432x288 with 1 Axes>"
      ]
     },
     "metadata": {},
     "output_type": "display_data"
    }
   ],
   "source": [
    "sns.countplot(data[\"multiple_choice_answer\"].apply(lambda x: len(x.split())).values)\n",
    "plt.title(\"Number of words in Answers vs Distrubution (Google Translation)\")\n",
    "plt.xlabel(\"Number of words in Answers\")\n",
    "plt.ylabel(\"Distrubution\")\n",
    "plt.grid(True)\n",
    "plt.show()"
   ]
  },
  {
   "cell_type": "code",
   "execution_count": 44,
   "metadata": {},
   "outputs": [
    {
     "data": {
      "image/png": "[encoded data removed]",
      "text/plain": [
       "<Figure size 432x288 with 1 Axes>"
      ]
     },
     "metadata": {},
     "output_type": "display_data"
    }
   ],
   "source": [
    "all_classes = data['multiple_choice_answer'].values\n",
    "class_frequency = {}\n",
    "\n",
    "for _cls in all_classes:\n",
    "    if(class_frequency.get(_cls,-1)>0):\n",
    "        class_frequency[_cls] += 1\n",
    "    else:\n",
    "        class_frequency[_cls] = 1\n",
    "        \n",
    "sort_class_frequency = sorted(list(class_frequency.items()),key = lambda x: x[1],reverse=True)   \n",
    "\n",
    "top_classes = []\n",
    "for x in sort_class_frequency[:30]:\n",
    "    top_classes.append(get_display(arabic_reshaper.reshape(x[0])))\n",
    "    \n",
    "plt.plot([x[1] for x in sort_class_frequency[:30]])\n",
    "i=np.arange(30)\n",
    "plt.title(\"Frequency of top 30 Classes(Google Translation)\")\n",
    "plt.xlabel(\"Tags\")\n",
    "plt.ylabel(\"Counts\")\n",
    "plt.xticks(i,top_classes)\n",
    "plt.xticks(rotation=90)\n",
    "plt.grid(True)\n",
    "plt.show()"
   ]
  },
  {
   "cell_type": "code",
   "execution_count": 45,
   "metadata": {},
   "outputs": [
    {
     "name": "stdout",
     "output_type": "stream",
     "text": [
      "5 most frequent Classes covers 45.48% points\n",
      "10 most frequent Classes covers 52.02% points\n",
      "20 most frequent Classes covers 57.36% points\n",
      "50 most frequent Classes covers 64.43% points\n",
      "70 most frequent Classes covers 67.19% points\n",
      "100 most frequent Classes covers 70.11% points\n",
      "200 most frequent Classes covers 75.84% points\n",
      "500 most frequent Classes covers 83.20% points\n",
      "750 most frequent Classes covers 86.02% points\n",
      "1000 most frequent Classes covers 87.91% points\n",
      "2000 most frequent Classes covers 91.78% points\n",
      "3000 most frequent Classes covers 93.66% points\n",
      "5000 most frequent Classes covers 95.60% points\n"
     ]
    },
    {
     "data": {
      "image/png": "[encoded data removed]",
      "text/plain": [
       "<Figure size 432x288 with 1 Axes>"
      ]
     },
     "metadata": {},
     "output_type": "display_data"
    }
   ],
   "source": [
    "def getPercentageOfDataCoversGivenNumClasses(n_class, class_frequency, df):\n",
    "    n_common_class = heapq.nlargest(n_class, class_frequency, key=class_frequency.get)\n",
    "    count = 0\n",
    "    for _class in df['multiple_choice_answer'].values:\n",
    "        if(_class in n_common_class):\n",
    "            count += 1\n",
    "\n",
    "    return (count/len(df))*100\n",
    "    \n",
    "n_classes = [5,10,20,50,70,100,200,500,750,1000,2000,3000,5000]\n",
    "percentage_cover = []\n",
    "for i in n_classes:\n",
    "    temp = getPercentageOfDataCoversGivenNumClasses(i,class_frequency,data)\n",
    "    percentage_cover.append(temp)\n",
    "    print(\"{} most frequent Classes covers {:.2f}% points\".format(i,temp))\n",
    "\n",
    "\n",
    "plt.plot(n_classes, percentage_cover)\n",
    "i=np.arange(len(percentage_cover))\n",
    "plt.title(\"Percentage of points covers vs number of Classes (Google Translation)\")\n",
    "plt.xlabel(\"Classes\")\n",
    "plt.ylabel(\"Counts\")\n",
    "plt.show()"
   ]
  },
  {
   "cell_type": "markdown",
   "metadata": {},
   "source": [
    "## Targoman Translation"
   ]
  },
  {
   "cell_type": "markdown",
   "metadata": {},
   "source": [
    "Before run the below cells, please, extract files that exist in **`\"/Dataset/Targoman.rar\"`** and insert these files in **`\"/Dataset/Targoman/\"`**."
   ]
  },
  {
   "cell_type": "markdown",
   "metadata": {},
   "source": [
    "### Loading the Questions and Annotations"
   ]
  },
  {
   "cell_type": "code",
   "execution_count": 46,
   "metadata": {},
   "outputs": [],
   "source": [
    "question_file_path = '../Dataset/Targoman/targoman-train.json'\n",
    "annotation_file_path = '../Dataset/Targoman/targoman-train-annotations.json'\n",
    "\n",
    "questions = json.load(open(question_file_path, encoding='utf-8'))\n",
    "questions = questions[\"questions\"]\n",
    "\n",
    "\n",
    "annotations = json.load(open(annotation_file_path, encoding='utf-8'))\n",
    "annotations = annotations[\"annotations\"]"
   ]
  },
  {
   "cell_type": "code",
   "execution_count": 47,
   "metadata": {},
   "outputs": [
    {
     "name": "stdout",
     "output_type": "stream",
     "text": [
      "Total Number Questions is :  248349\n"
     ]
    }
   ],
   "source": [
    "print(\"Total Number Questions is : \",len(questions))"
   ]
  },
  {
   "cell_type": "code",
   "execution_count": 48,
   "metadata": {},
   "outputs": [
    {
     "data": {
      "text/html": [
       "<div>\n",
       "<style scoped>\n",
       "    .dataframe tbody tr th:only-of-type {\n",
       "        vertical-align: middle;\n",
       "    }\n",
       "\n",
       "    .dataframe tbody tr th {\n",
       "        vertical-align: top;\n",
       "    }\n",
       "\n",
       "    .dataframe thead th {\n",
       "        text-align: right;\n",
       "    }\n",
       "</style>\n",
       "<table border=\"1\" class=\"dataframe\">\n",
       "  <thead>\n",
       "    <tr style=\"text-align: right;\">\n",
       "      <th></th>\n",
       "      <th>image_id</th>\n",
       "      <th>question</th>\n",
       "      <th>question_id</th>\n",
       "    </tr>\n",
       "  </thead>\n",
       "  <tbody>\n",
       "    <tr>\n",
       "      <th>0</th>\n",
       "      <td>487025</td>\n",
       "      <td>صندلی نیمکت چه شکلی است؟</td>\n",
       "      <td>4870250</td>\n",
       "    </tr>\n",
       "    <tr>\n",
       "      <th>1</th>\n",
       "      <td>487025</td>\n",
       "      <td>آیا سایه‌ای وجود دارد؟</td>\n",
       "      <td>4870251</td>\n",
       "    </tr>\n",
       "    <tr>\n",
       "      <th>2</th>\n",
       "      <td>487025</td>\n",
       "      <td>این یکی نیمکت یا چند نیمکت هست؟</td>\n",
       "      <td>4870252</td>\n",
       "    </tr>\n",
       "    <tr>\n",
       "      <th>3</th>\n",
       "      <td>78077</td>\n",
       "      <td>این قطار جدید است؟</td>\n",
       "      <td>780770</td>\n",
       "    </tr>\n",
       "    <tr>\n",
       "      <th>4</th>\n",
       "      <td>78077</td>\n",
       "      <td>نوار روی قطار چه رنگی است؟</td>\n",
       "      <td>780771</td>\n",
       "    </tr>\n",
       "  </tbody>\n",
       "</table>\n",
       "</div>"
      ],
      "text/plain": [
       "   image_id                         question  question_id\n",
       "0    487025         صندلی نیمکت چه شکلی است؟      4870250\n",
       "1    487025           آیا سایه‌ای وجود دارد؟      4870251\n",
       "2    487025  این یکی نیمکت یا چند نیمکت هست؟      4870252\n",
       "3     78077               این قطار جدید است؟       780770\n",
       "4     78077       نوار روی قطار چه رنگی است؟       780771"
      ]
     },
     "execution_count": 48,
     "metadata": {},
     "output_type": "execute_result"
    }
   ],
   "source": [
    "questions_df = pd.DataFrame(questions)\n",
    "questions_df.head(5)"
   ]
  },
  {
   "cell_type": "code",
   "execution_count": 49,
   "metadata": {},
   "outputs": [
    {
     "data": {
      "text/html": [
       "<div>\n",
       "<style scoped>\n",
       "    .dataframe tbody tr th:only-of-type {\n",
       "        vertical-align: middle;\n",
       "    }\n",
       "\n",
       "    .dataframe tbody tr th {\n",
       "        vertical-align: top;\n",
       "    }\n",
       "\n",
       "    .dataframe thead th {\n",
       "        text-align: right;\n",
       "    }\n",
       "</style>\n",
       "<table border=\"1\" class=\"dataframe\">\n",
       "  <thead>\n",
       "    <tr style=\"text-align: right;\">\n",
       "      <th></th>\n",
       "      <th>answer_type</th>\n",
       "      <th>answers</th>\n",
       "      <th>image_id</th>\n",
       "      <th>multiple_choice_answer</th>\n",
       "      <th>question_id</th>\n",
       "      <th>question_type</th>\n",
       "    </tr>\n",
       "  </thead>\n",
       "  <tbody>\n",
       "    <tr>\n",
       "      <th>0</th>\n",
       "      <td>other</td>\n",
       "      <td>[{'answer': 'بیضی', 'answer_confidence': 'yes'...</td>\n",
       "      <td>487025</td>\n",
       "      <td>پیچ خورده</td>\n",
       "      <td>4870250</td>\n",
       "      <td>what</td>\n",
       "    </tr>\n",
       "    <tr>\n",
       "      <th>1</th>\n",
       "      <td>yes/no</td>\n",
       "      <td>[{'answer': 'بله', 'answer_confidence': 'yes',...</td>\n",
       "      <td>487025</td>\n",
       "      <td>بله</td>\n",
       "      <td>4870251</td>\n",
       "      <td>is there a</td>\n",
       "    </tr>\n",
       "    <tr>\n",
       "      <th>2</th>\n",
       "      <td>other</td>\n",
       "      <td>[{'answer': '۱', 'answer_confidence': 'yes', '...</td>\n",
       "      <td>487025</td>\n",
       "      <td>۱</td>\n",
       "      <td>4870252</td>\n",
       "      <td>is this</td>\n",
       "    </tr>\n",
       "    <tr>\n",
       "      <th>3</th>\n",
       "      <td>yes/no</td>\n",
       "      <td>[{'answer': 'نه', 'answer_confidence': 'yes', ...</td>\n",
       "      <td>78077</td>\n",
       "      <td>نه</td>\n",
       "      <td>780770</td>\n",
       "      <td>is this a</td>\n",
       "    </tr>\n",
       "    <tr>\n",
       "      <th>4</th>\n",
       "      <td>other</td>\n",
       "      <td>[{'answer': 'سفید', 'answer_confidence': 'yes'...</td>\n",
       "      <td>78077</td>\n",
       "      <td>سفید</td>\n",
       "      <td>780771</td>\n",
       "      <td>what color is the</td>\n",
       "    </tr>\n",
       "  </tbody>\n",
       "</table>\n",
       "</div>"
      ],
      "text/plain": [
       "  answer_type                                            answers  image_id  \\\n",
       "0       other  [{'answer': 'بیضی', 'answer_confidence': 'yes'...    487025   \n",
       "1      yes/no  [{'answer': 'بله', 'answer_confidence': 'yes',...    487025   \n",
       "2       other  [{'answer': '۱', 'answer_confidence': 'yes', '...    487025   \n",
       "3      yes/no  [{'answer': 'نه', 'answer_confidence': 'yes', ...     78077   \n",
       "4       other  [{'answer': 'سفید', 'answer_confidence': 'yes'...     78077   \n",
       "\n",
       "  multiple_choice_answer  question_id      question_type  \n",
       "0              پیچ خورده      4870250               what  \n",
       "1                    بله      4870251         is there a  \n",
       "2                      ۱      4870252            is this  \n",
       "3                     نه       780770          is this a  \n",
       "4                   سفید       780771  what color is the  "
      ]
     },
     "execution_count": 49,
     "metadata": {},
     "output_type": "execute_result"
    }
   ],
   "source": [
    "annotations_df = pd.DataFrame(annotations)\n",
    "annotations_df.head(5)"
   ]
  },
  {
   "cell_type": "markdown",
   "metadata": {},
   "source": [
    "### Merging Questions and Annotations"
   ]
  },
  {
   "cell_type": "code",
   "execution_count": 50,
   "metadata": {},
   "outputs": [
    {
     "data": {
      "text/html": [
       "<div>\n",
       "<style scoped>\n",
       "    .dataframe tbody tr th:only-of-type {\n",
       "        vertical-align: middle;\n",
       "    }\n",
       "\n",
       "    .dataframe tbody tr th {\n",
       "        vertical-align: top;\n",
       "    }\n",
       "\n",
       "    .dataframe thead th {\n",
       "        text-align: right;\n",
       "    }\n",
       "</style>\n",
       "<table border=\"1\" class=\"dataframe\">\n",
       "  <thead>\n",
       "    <tr style=\"text-align: right;\">\n",
       "      <th></th>\n",
       "      <th>image_id</th>\n",
       "      <th>question</th>\n",
       "      <th>question_id</th>\n",
       "      <th>answer_type</th>\n",
       "      <th>answers</th>\n",
       "      <th>multiple_choice_answer</th>\n",
       "      <th>question_type</th>\n",
       "    </tr>\n",
       "  </thead>\n",
       "  <tbody>\n",
       "    <tr>\n",
       "      <th>0</th>\n",
       "      <td>487025</td>\n",
       "      <td>صندلی نیمکت چه شکلی است؟</td>\n",
       "      <td>4870250</td>\n",
       "      <td>other</td>\n",
       "      <td>[{'answer': 'بیضی', 'answer_confidence': 'yes'...</td>\n",
       "      <td>پیچ خورده</td>\n",
       "      <td>what</td>\n",
       "    </tr>\n",
       "    <tr>\n",
       "      <th>1</th>\n",
       "      <td>487025</td>\n",
       "      <td>آیا سایه‌ای وجود دارد؟</td>\n",
       "      <td>4870251</td>\n",
       "      <td>yes/no</td>\n",
       "      <td>[{'answer': 'بله', 'answer_confidence': 'yes',...</td>\n",
       "      <td>بله</td>\n",
       "      <td>is there a</td>\n",
       "    </tr>\n",
       "    <tr>\n",
       "      <th>2</th>\n",
       "      <td>487025</td>\n",
       "      <td>این یکی نیمکت یا چند نیمکت هست؟</td>\n",
       "      <td>4870252</td>\n",
       "      <td>other</td>\n",
       "      <td>[{'answer': '۱', 'answer_confidence': 'yes', '...</td>\n",
       "      <td>۱</td>\n",
       "      <td>is this</td>\n",
       "    </tr>\n",
       "    <tr>\n",
       "      <th>3</th>\n",
       "      <td>78077</td>\n",
       "      <td>این قطار جدید است؟</td>\n",
       "      <td>780770</td>\n",
       "      <td>yes/no</td>\n",
       "      <td>[{'answer': 'نه', 'answer_confidence': 'yes', ...</td>\n",
       "      <td>نه</td>\n",
       "      <td>is this a</td>\n",
       "    </tr>\n",
       "    <tr>\n",
       "      <th>4</th>\n",
       "      <td>78077</td>\n",
       "      <td>نوار روی قطار چه رنگی است؟</td>\n",
       "      <td>780771</td>\n",
       "      <td>other</td>\n",
       "      <td>[{'answer': 'سفید', 'answer_confidence': 'yes'...</td>\n",
       "      <td>سفید</td>\n",
       "      <td>what color is the</td>\n",
       "    </tr>\n",
       "  </tbody>\n",
       "</table>\n",
       "</div>"
      ],
      "text/plain": [
       "   image_id                         question  question_id answer_type  \\\n",
       "0    487025         صندلی نیمکت چه شکلی است؟      4870250       other   \n",
       "1    487025           آیا سایه‌ای وجود دارد؟      4870251      yes/no   \n",
       "2    487025  این یکی نیمکت یا چند نیمکت هست؟      4870252       other   \n",
       "3     78077               این قطار جدید است؟       780770      yes/no   \n",
       "4     78077       نوار روی قطار چه رنگی است؟       780771       other   \n",
       "\n",
       "                                             answers multiple_choice_answer  \\\n",
       "0  [{'answer': 'بیضی', 'answer_confidence': 'yes'...              پیچ خورده   \n",
       "1  [{'answer': 'بله', 'answer_confidence': 'yes',...                    بله   \n",
       "2  [{'answer': '۱', 'answer_confidence': 'yes', '...                      ۱   \n",
       "3  [{'answer': 'نه', 'answer_confidence': 'yes', ...                     نه   \n",
       "4  [{'answer': 'سفید', 'answer_confidence': 'yes'...                   سفید   \n",
       "\n",
       "       question_type  \n",
       "0               what  \n",
       "1         is there a  \n",
       "2            is this  \n",
       "3          is this a  \n",
       "4  what color is the  "
      ]
     },
     "execution_count": 50,
     "metadata": {},
     "output_type": "execute_result"
    }
   ],
   "source": [
    "data = pd.merge(questions_df,\n",
    "                annotations_df,\n",
    "                how='inner',\n",
    "                left_on=['image_id', 'question_id'],\n",
    "                right_on=['image_id', 'question_id'])\n",
    "data.head(5)"
   ]
  },
  {
   "cell_type": "markdown",
   "metadata": {},
   "source": [
    "###  Questions and Answers Distribution"
   ]
  },
  {
   "cell_type": "code",
   "execution_count": 51,
   "metadata": {},
   "outputs": [
    {
     "data": {
      "image/png": "[encoded data removed]",
      "text/plain": [
       "<Figure size 432x288 with 1 Axes>"
      ]
     },
     "metadata": {},
     "output_type": "display_data"
    }
   ],
   "source": [
    "sns.countplot(data[\"question\"].apply(lambda x: len(x.split())).values)\n",
    "plt.title(\"Length of the questions vs Distrubution(Targoman Translation)\")\n",
    "plt.xlabel(\"Length of the questions\")\n",
    "plt.ylabel(\"Distrubution\")\n",
    "plt.xticks(rotation=90)\n",
    "plt.grid(True)\n",
    "plt.show()"
   ]
  },
  {
   "cell_type": "code",
   "execution_count": 52,
   "metadata": {},
   "outputs": [
    {
     "data": {
      "image/png": "[encoded data removed]",
      "text/plain": [
       "<Figure size 432x288 with 1 Axes>"
      ]
     },
     "metadata": {},
     "output_type": "display_data"
    }
   ],
   "source": [
    "sns.countplot(data[\"multiple_choice_answer\"].apply(lambda x: len(x.split())).values)\n",
    "plt.title(\"Number of words in Answers vs Distrubution(Targoman Translation)\")\n",
    "plt.xlabel(\"Number of words in Answers\")\n",
    "plt.ylabel(\"Distrubution\")\n",
    "plt.grid(True)\n",
    "plt.show()"
   ]
  },
  {
   "cell_type": "code",
   "execution_count": 53,
   "metadata": {},
   "outputs": [
    {
     "data": {
      "image/png": "[encoded data removed]",
      "text/plain": [
       "<Figure size 432x288 with 1 Axes>"
      ]
     },
     "metadata": {},
     "output_type": "display_data"
    }
   ],
   "source": [
    "all_classes = data['multiple_choice_answer'].values\n",
    "class_frequency = {}\n",
    "\n",
    "for _cls in all_classes:\n",
    "    if(class_frequency.get(_cls,-1)>0):\n",
    "        class_frequency[_cls] += 1\n",
    "    else:\n",
    "        class_frequency[_cls] = 1\n",
    "        \n",
    "sort_class_frequency = sorted(list(class_frequency.items()),key = lambda x: x[1],reverse=True)   \n",
    "\n",
    "top_classes = []\n",
    "for x in sort_class_frequency[:30]:\n",
    "    top_classes.append(get_display(arabic_reshaper.reshape(x[0])))\n",
    "    \n",
    "plt.plot([x[1] for x in sort_class_frequency[:30]])\n",
    "i=np.arange(30)\n",
    "plt.title(\"Frequency of top 30 Classes(Targoman Translation)\")\n",
    "plt.xlabel(\"Tags\")\n",
    "plt.ylabel(\"Counts\")\n",
    "plt.xticks(i,top_classes)\n",
    "plt.xticks(rotation=90)\n",
    "plt.show()"
   ]
  },
  {
   "cell_type": "code",
   "execution_count": 54,
   "metadata": {},
   "outputs": [
    {
     "name": "stdout",
     "output_type": "stream",
     "text": [
      "5 most frequent Classes covers 45.49% points\n",
      "10 most frequent Classes covers 52.03% points\n",
      "20 most frequent Classes covers 57.39% points\n",
      "50 most frequent Classes covers 64.59% points\n",
      "70 most frequent Classes covers 67.29% points\n",
      "100 most frequent Classes covers 70.07% points\n",
      "200 most frequent Classes covers 75.54% points\n",
      "500 most frequent Classes covers 82.91% points\n",
      "750 most frequent Classes covers 85.68% points\n",
      "1000 most frequent Classes covers 87.54% points\n",
      "2000 most frequent Classes covers 91.44% points\n",
      "3000 most frequent Classes covers 93.36% points\n",
      "5000 most frequent Classes covers 95.35% points\n"
     ]
    },
    {
     "data": {
      "image/png": "[encoded data removed]",
      "text/plain": [
       "<Figure size 432x288 with 1 Axes>"
      ]
     },
     "metadata": {},
     "output_type": "display_data"
    }
   ],
   "source": [
    "def getPercentageOfDataCoversGivenNumClasses(n_class, class_frequency, df):\n",
    "    n_common_class = heapq.nlargest(n_class, class_frequency, key=class_frequency.get)\n",
    "    count = 0\n",
    "    for _class in df['multiple_choice_answer'].values:\n",
    "        if(_class in n_common_class):\n",
    "            count += 1\n",
    "\n",
    "    return (count/len(df))*100\n",
    "    \n",
    "n_classes = [5,10,20,50,70,100,200,500,750,1000,2000,3000,5000]\n",
    "percentage_cover = []\n",
    "for i in n_classes:\n",
    "    temp = getPercentageOfDataCoversGivenNumClasses(i,class_frequency,data)\n",
    "    percentage_cover.append(temp)\n",
    "    print(\"{} most frequent Classes covers {:.2f}% points\".format(i,temp))\n",
    "\n",
    "\n",
    "plt.plot(n_classes, percentage_cover)\n",
    "i=np.arange(len(percentage_cover))\n",
    "plt.title(\"Percentage of points covers vs number of Classes(Targoman Translation)\")\n",
    "plt.xlabel(\"Classes\")\n",
    "plt.ylabel(\"Counts\")\n",
    "plt.grid(True)\n",
    "plt.show()"
   ]
  },
  {
   "cell_type": "code",
   "execution_count": null,
   "metadata": {},
   "outputs": [],
   "source": []
  }
 ],
 "metadata": {
  "kernelspec": {
   "display_name": "Python 3",
   "language": "python",
   "name": "python3"
  },
  "language_info": {
   "codemirror_mode": {
    "name": "ipython",
    "version": 3
   },
   "file_extension": ".py",
   "mimetype": "text/x-python",
   "name": "python",
   "nbconvert_exporter": "python",
   "pygments_lexer": "ipython3",
   "version": "3.6.4"
  },
  "toc": {
   "base_numbering": 1,
   "nav_menu": {},
   "number_sections": true,
   "sideBar": true,
   "skip_h1_title": false,
   "title_cell": "Table of Contents",
   "title_sidebar": "Contents",
   "toc_cell": false,
   "toc_position": {},
   "toc_section_display": true,
   "toc_window_display": true
  }
 },
 "nbformat": 4,
 "nbformat_minor": 2
}
