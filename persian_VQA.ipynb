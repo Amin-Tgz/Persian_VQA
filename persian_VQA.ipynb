{
  "nbformat": 4,
  "nbformat_minor": 0,
  "metadata": {
    "colab": {
      "name": "persian_VQA.ipynb",
      "provenance": [],
      "collapsed_sections": [],
      "mount_file_id": "1zyMXUzeSuqY403EOkMqYjlYyCcQs0xIf",
      "authorship_tag": "ABX9TyMHWToypOUPbwusPBRLCj+U",
      "include_colab_link": true
    },
    "kernelspec": {
      "name": "python3",
      "display_name": "Python 3"
    }
  },
  "cells": [
    {
      "cell_type": "markdown",
      "metadata": {
        "id": "view-in-github",
        "colab_type": "text"
      },
      "source": [
        "<a href=\"https://colab.research.google.com/github/maryamhashemi/Persian_VQA/blob/master/persian_VQA.ipynb\" target=\"_parent\"><img src=\"https://colab.research.google.com/assets/colab-badge.svg\" alt=\"Open In Colab\"/></a>"
      ]
    },
    {
      "cell_type": "code",
      "metadata": {
        "id": "m6bRyFIkFhGj",
        "colab_type": "code",
        "colab": {}
      },
      "source": [
        "import json \n",
        "from tensorflow.keras.models import Model \n",
        "from tensorflow.keras.layers import Dense, LSTM, Dropout, Embedding, Multiply"
      ],
      "execution_count": 0,
      "outputs": []
    },
    {
      "cell_type": "code",
      "metadata": {
        "id": "ZOGILD3IxLAG",
        "colab_type": "code",
        "outputId": "bdf357a7-ba3b-4ce1-f34d-a6177c5969a4",
        "colab": {
          "base_uri": "https://localhost:8080/",
          "height": 34
        }
      },
      "source": [
        "from google.colab import drive\n",
        "drive.mount('/content/drive')"
      ],
      "execution_count": 0,
      "outputs": [
        {
          "output_type": "stream",
          "text": [
            "Drive already mounted at /content/drive; to attempt to forcibly remount, call drive.mount(\"/content/drive\", force_remount=True).\n"
          ],
          "name": "stdout"
        }
      ]
    },
    {
      "cell_type": "code",
      "metadata": {
        "id": "88SZV-f-w4vd",
        "colab_type": "code",
        "colab": {}
      },
      "source": [
        "QUESTION_TRAIN_PATH = '/content/drive/My Drive/Persian_VQA/google-train_questions.json'"
      ],
      "execution_count": 0,
      "outputs": []
    },
    {
      "cell_type": "code",
      "metadata": {
        "id": "dJBqQMXBwtuH",
        "colab_type": "code",
        "colab": {}
      },
      "source": [
        "with open(QUESTION_TRAIN_PATH) as json_file:\n",
        "    data = json.load(json_file)"
      ],
      "execution_count": 0,
      "outputs": []
    },
    {
      "cell_type": "markdown",
      "metadata": {
        "id": "OfX_W-R74nJH",
        "colab_type": "text"
      },
      "source": [
        "### Build Vanilla Network"
      ]
    },
    {
      "cell_type": "code",
      "metadata": {
        "id": "C_4z0GKrA4Lc",
        "colab_type": "code",
        "colab": {}
      },
      "source": [
        "def img_model(img_input):\n",
        "\n",
        "  x = Dense(1024, activation='tanh', input_dim = 4096)(img_input)\n",
        "\n",
        "  return model\n"
      ],
      "execution_count": 0,
      "outputs": []
    },
    {
      "cell_type": "code",
      "metadata": {
        "id": "XM29KNZPBCMa",
        "colab_type": "code",
        "colab": {}
      },
      "source": [
        "def qs_model(qs_input, num_words, embedding_dim, dropout_rate):\n",
        "\n",
        "  x = Embedding(num_words, embedding_dim)(qs_input)\n",
        "  x = LSTM(units=512, return_sequences=True, input_shape= (...))(x)\n",
        "  x = Dropout(dropout_rate)(x)\n",
        "  x = LSTM(units=512, return_sequences=False)(x)\n",
        "  x = Dropout(dropout_rate)(x)\n",
        "  x = Dense(1024, activation='tanh')(x)\n",
        "\n",
        "  return x"
      ],
      "execution_count": 0,
      "outputs": []
    },
    {
      "cell_type": "code",
      "metadata": {
        "id": "vP_NNUBE4uoj",
        "colab_type": "code",
        "colab": {}
      },
      "source": [
        "def vanilla(num_classes, dropout_rate, num_words, embedding_dim):\n",
        "  qs_input = ...\n",
        "  img_input = ...\n",
        "\n",
        "  CNN_model = img_model(img_input)\n",
        "  LSTM_model = qs_model(qs_input, num_words, embedding_dim, dropout_rate)\n",
        "\n",
        "  x = Multiply([CNN_model, LSTM_model])\n",
        "  x = Dropout(dropout_rate)(x)\n",
        "  x = Dense(1000, activation='tanh')(x)\n",
        "  x = Dropout(dropout_rate)(x)\n",
        "  output = Dense(num_classes, activation='softmax')(x)\n",
        "  \n",
        "  model = Model(inputs= [qs_input, img_input], outputs= output)\n",
        "  return True"
      ],
      "execution_count": 0,
      "outputs": []
    },
    {
      "cell_type": "code",
      "metadata": {
        "id": "GzZs0-Am40nT",
        "colab_type": "code",
        "colab": {}
      },
      "source": [
        ""
      ],
      "execution_count": 0,
      "outputs": []
    }
  ]
}