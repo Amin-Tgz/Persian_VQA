{
  "nbformat": 4,
  "nbformat_minor": 0,
  "metadata": {
    "colab": {
      "name": "persian_VQA.ipynb",
      "provenance": [],
      "collapsed_sections": [],
      "toc_visible": true,
      "mount_file_id": "1zyMXUzeSuqY403EOkMqYjlYyCcQs0xIf",
      "authorship_tag": "ABX9TyN6tacG2sk1xbEmGT4MjsKO",
      "include_colab_link": true
    },
    "kernelspec": {
      "name": "python3",
      "display_name": "Python 3"
    },
    "accelerator": "GPU"
  },
  "cells": [
    {
      "cell_type": "markdown",
      "metadata": {
        "id": "view-in-github",
        "colab_type": "text"
      },
      "source": [
        "<a href=\"https://colab.research.google.com/github/maryamhashemi/Persian_VQA/blob/master/persian_VQA.ipynb\" target=\"_parent\"><img src=\"https://colab.research.google.com/assets/colab-badge.svg\" alt=\"Open In Colab\"/></a>"
      ]
    },
    {
      "cell_type": "markdown",
      "metadata": {
        "id": "EBWMpHGoxrnz",
        "colab_type": "text"
      },
      "source": [
        "### Import prerequesties."
      ]
    },
    {
      "cell_type": "code",
      "metadata": {
        "id": "m6bRyFIkFhGj",
        "colab_type": "code",
        "colab": {}
      },
      "source": [
        "import json\n",
        "import os\n",
        "from tensorflow.keras.models import Model \n",
        "from tensorflow.keras.layers import Dense, LSTM, Dropout, Embedding, Multiply\n",
        "from tensorflow.keras.callbacks import ModelCheckpoint\n",
        "from tensorflow.keras.preprocessing.image import load_img, img_to_array\n",
        "import re"
      ],
      "execution_count": 0,
      "outputs": []
    },
    {
      "cell_type": "code",
      "metadata": {
        "id": "ZOGILD3IxLAG",
        "colab_type": "code",
        "outputId": "dd782874-646e-4d3c-a7e7-07a731bf9a16",
        "colab": {
          "base_uri": "https://localhost:8080/",
          "height": 34
        }
      },
      "source": [
        "from google.colab import drive\n",
        "drive.mount('/content/drive')"
      ],
      "execution_count": 2,
      "outputs": [
        {
          "output_type": "stream",
          "text": [
            "Drive already mounted at /content/drive; to attempt to forcibly remount, call drive.mount(\"/content/drive\", force_remount=True).\n"
          ],
          "name": "stdout"
        }
      ]
    },
    {
      "cell_type": "markdown",
      "metadata": {
        "id": "s-5xC8j0y1xk",
        "colab_type": "text"
      },
      "source": [
        "### Set Parameters"
      ]
    },
    {
      "cell_type": "code",
      "metadata": {
        "id": "xVebfTOqy64y",
        "colab_type": "code",
        "colab": {}
      },
      "source": [
        "DROPOUT_RATE = 0.5\n",
        "EMBEDDING_DIM = 300\n",
        "EPOCHS = 10\n",
        "BATCH_SIZE = 256\n",
        "\n",
        "BASE_PATH = '/content/drive/My Drive/Persian_VQA/'\n",
        "QUESTION_TRAIN_PATH =   os.path.join(BASE_PATH, 'google-train_questions.json')\n",
        "ANNOTATION_TRAIN_PATH = os.path.join(BASE_PATH, 'google-train-annotations.json')\n",
        "IMAGE_TRAIN_PATH = os.path.join(BASE_PATH, 'train_images_1000')\n",
        "\n",
        "QUESTION_VAL_PATH =   os.path.join(BASE_PATH, '...')\n",
        "ANNOTATION_VAL_PATH = os.path.join(BASE_PATH, '...')"
      ],
      "execution_count": 0,
      "outputs": []
    },
    {
      "cell_type": "markdown",
      "metadata": {
        "id": "CqyLy7lGxky7",
        "colab_type": "text"
      },
      "source": [
        "### Reading Data"
      ]
    },
    {
      "cell_type": "code",
      "metadata": {
        "id": "pqUbnuOP7po5",
        "colab_type": "code",
        "colab": {}
      },
      "source": [
        "def read_image_paths(dir_path):\n",
        "  ims = {}\n",
        "\n",
        "  for filename in os.listdir(dir_path):\n",
        "    if filename.endswith('.jpg'):\n",
        "      image_id = int(re.findall('\\d+', filename)[1])\n",
        "      ims[image_id] = os.path.join(dir_path, filename)\n",
        "\n",
        "  return ims"
      ],
      "execution_count": 0,
      "outputs": []
    },
    {
      "cell_type": "code",
      "metadata": {
        "id": "5nPmc00L4m82",
        "colab_type": "code",
        "colab": {}
      },
      "source": [
        "def load_and_proccess_image(image_path):\n",
        "  im = img_to_array(load_img(image_path))\n",
        "  return im"
      ],
      "execution_count": 0,
      "outputs": []
    },
    {
      "cell_type": "code",
      "metadata": {
        "id": "n_Lp_PrD4xYW",
        "colab_type": "code",
        "colab": {}
      },
      "source": [
        "def read_images(paths):\n",
        "  ims = {}\n",
        "  for image_id, image_path in paths.items():\n",
        "    ims[image_id] = load_and_proccess_image(image_path)\n",
        "  return ims"
      ],
      "execution_count": 0,
      "outputs": []
    },
    {
      "cell_type": "code",
      "metadata": {
        "id": "GUST7ALI5Q8Q",
        "colab_type": "code",
        "colab": {}
      },
      "source": [
        "def get_train_image_paths():\n",
        "  return read_image_paths(IMAGE_TRAIN_PATH)"
      ],
      "execution_count": 0,
      "outputs": []
    },
    {
      "cell_type": "code",
      "metadata": {
        "id": "E1tWjaFA4-HN",
        "colab_type": "code",
        "colab": {
          "base_uri": "https://localhost:8080/",
          "height": 34
        },
        "outputId": "11c1adb7-128f-44bc-e55c-05168631f63f"
      },
      "source": [
        "train_ims = read_images(get_train_image_paths())\n",
        "print(len(train_ims))"
      ],
      "execution_count": 14,
      "outputs": [
        {
          "output_type": "stream",
          "text": [
            "1000\n"
          ],
          "name": "stdout"
        }
      ]
    },
    {
      "cell_type": "code",
      "metadata": {
        "id": "dJBqQMXBwtuH",
        "colab_type": "code",
        "outputId": "34a3c0f3-a5c1-46e1-929d-37abdd106b76",
        "colab": {
          "base_uri": "https://localhost:8080/",
          "height": 67
        }
      },
      "source": [
        "with open(QUESTION_TRAIN_PATH) as json_file:\n",
        "    data = json.load(json_file)\n",
        "data['questions'][0]"
      ],
      "execution_count": 0,
      "outputs": [
        {
          "output_type": "execute_result",
          "data": {
            "text/plain": [
              "{'image_id': 487025,\n",
              " 'question': 'صندلی نیمکت چه شکلی است؟',\n",
              " 'question_id': 4870250}"
            ]
          },
          "metadata": {
            "tags": []
          },
          "execution_count": 11
        }
      ]
    },
    {
      "cell_type": "code",
      "metadata": {
        "id": "_GxF7drAZdXy",
        "colab_type": "code",
        "outputId": "9c4d4007-8f11-4790-f158-f5482228db64",
        "colab": {
          "base_uri": "https://localhost:8080/",
          "height": 269
        }
      },
      "source": [
        "with open(ANNOTATION_TRAIN_PATH) as json_file:\n",
        "    data = json.load(json_file)\n",
        "data['annotations'][0]"
      ],
      "execution_count": 0,
      "outputs": [
        {
          "output_type": "execute_result",
          "data": {
            "text/plain": [
              "{'answer_type': 'other',\n",
              " 'answers': [{'answer': 'بیضی', 'answer_confidence': 'yes', 'answer_id': 1},\n",
              "  {'answer': 'نیمه دایره', 'answer_confidence': 'yes', 'answer_id': 2},\n",
              "  {'answer': 'منحنی', 'answer_confidence': 'yes', 'answer_id': 3},\n",
              "  {'answer': 'منحنی', 'answer_confidence': 'yes', 'answer_id': 4},\n",
              "  {'answer': 'منحنی دوتایی', 'answer_confidence': 'yes', 'answer_id': 5},\n",
              "  {'answer': 'موز', 'answer_confidence': 'maybe', 'answer_id': 6},\n",
              "  {'answer': 'منحنی', 'answer_confidence': 'yes', 'answer_id': 7},\n",
              "  {'answer': 'موج دار', 'answer_confidence': 'yes', 'answer_id': 8},\n",
              "  {'answer': 'پیچش', 'answer_confidence': 'no', 'answer_id': 9},\n",
              "  {'answer': 'منحنی', 'answer_confidence': 'maybe', 'answer_id': 10}],\n",
              " 'image_id': 487025,\n",
              " 'multiple_choice_answer': 'curved',\n",
              " 'question_id': 4870250,\n",
              " 'question_type': 'what'}"
            ]
          },
          "metadata": {
            "tags": []
          },
          "execution_count": 15
        }
      ]
    },
    {
      "cell_type": "markdown",
      "metadata": {
        "id": "OfX_W-R74nJH",
        "colab_type": "text"
      },
      "source": [
        "### Build Vanilla Network"
      ]
    },
    {
      "cell_type": "code",
      "metadata": {
        "id": "C_4z0GKrA4Lc",
        "colab_type": "code",
        "colab": {}
      },
      "source": [
        "def img_model(img_input):\n",
        "\n",
        "  x = Dense(1024, activation='tanh', input_dim = 4096)(img_input)\n",
        "\n",
        "  return model\n"
      ],
      "execution_count": 0,
      "outputs": []
    },
    {
      "cell_type": "code",
      "metadata": {
        "id": "XM29KNZPBCMa",
        "colab_type": "code",
        "colab": {}
      },
      "source": [
        "def qs_model(qs_input, num_words, embedding_dim, dropout_rate):\n",
        "\n",
        "  x = Embedding(num_words, embedding_dim)(qs_input)\n",
        "  x = LSTM(units=512, return_sequences=True, input_shape= (None,embedding_dim))(x)\n",
        "  x = Dropout(dropout_rate)(x)\n",
        "  x = LSTM(units=512, return_sequences=False)(x)\n",
        "  x = Dropout(dropout_rate)(x)\n",
        "  x = Dense(1024, activation='tanh')(x)\n",
        "\n",
        "  return x"
      ],
      "execution_count": 0,
      "outputs": []
    },
    {
      "cell_type": "code",
      "metadata": {
        "id": "vP_NNUBE4uoj",
        "colab_type": "code",
        "colab": {}
      },
      "source": [
        "def vanilla(num_classes, dropout_rate, num_words, embedding_dim):\n",
        "  qs_input = ...\n",
        "  img_input = ...\n",
        "\n",
        "  CNN_model = img_model(img_input)\n",
        "  LSTM_model = qs_model(qs_input, num_words, embedding_dim, dropout_rate)\n",
        "\n",
        "  x = Multiply([CNN_model, LSTM_model])\n",
        "  x = Dropout(dropout_rate)(x)\n",
        "  x = Dense(1000, activation='tanh')(x)\n",
        "  x = Dropout(dropout_rate)(x)\n",
        "  output = Dense(num_classes, activation='softmax')(x)\n",
        "  \n",
        "  model = Model(inputs= [qs_input, img_input], outputs= output)\n",
        "  return model"
      ],
      "execution_count": 0,
      "outputs": []
    },
    {
      "cell_type": "markdown",
      "metadata": {
        "id": "iH-EWGFhw8lo",
        "colab_type": "text"
      },
      "source": [
        "### Train"
      ]
    },
    {
      "cell_type": "code",
      "metadata": {
        "id": "oJqRDTTHw_eO",
        "colab_type": "code",
        "colab": {}
      },
      "source": [
        "def Train():\n",
        "  num_classes = ...\n",
        "  num_words = ...\n",
        "  checkpointer = ModelCheckpoint(...)\n",
        "\n",
        "  model = vanilla(num_classes, DROPOUT_RATE, num_words, EMBEDDING_DIM)\n",
        "  model.comile(optimizer='rmsprop', loss='categorical_crossentropy', metrics=['accuracy'])\n",
        "  modle.fit(x_train,y_train, epochs = EPOCHS, batch_size = BATCH_SIZE, callbacks = [checkpointer])\n"
      ],
      "execution_count": 0,
      "outputs": []
    },
    {
      "cell_type": "markdown",
      "metadata": {
        "id": "m4OteN2u22vj",
        "colab_type": "text"
      },
      "source": [
        "### Evaluate"
      ]
    },
    {
      "cell_type": "code",
      "metadata": {
        "id": "Gw6YCB6t24ms",
        "colab_type": "code",
        "colab": {}
      },
      "source": [
        "def Evaluation():\n",
        "  "
      ],
      "execution_count": 0,
      "outputs": []
    }
  ]
}