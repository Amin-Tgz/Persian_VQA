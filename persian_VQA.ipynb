{
  "nbformat": 4,
  "nbformat_minor": 0,
  "metadata": {
    "colab": {
      "name": "persian_VQA.ipynb",
      "provenance": [],
      "collapsed_sections": [],
      "toc_visible": true,
      "mount_file_id": "1zyMXUzeSuqY403EOkMqYjlYyCcQs0xIf",
      "authorship_tag": "ABX9TyMMhWRA7pwHXMBtCmLFqnFy",
      "include_colab_link": true
    },
    "kernelspec": {
      "name": "python3",
      "display_name": "Python 3"
    },
    "accelerator": "GPU"
  },
  "cells": [
    {
      "cell_type": "markdown",
      "metadata": {
        "id": "view-in-github",
        "colab_type": "text"
      },
      "source": [
        "<a href=\"https://colab.research.google.com/github/maryamhashemi/Persian_VQA/blob/master/persian_VQA.ipynb\" target=\"_parent\"><img src=\"https://colab.research.google.com/assets/colab-badge.svg\" alt=\"Open In Colab\"/></a>"
      ]
    },
    {
      "cell_type": "markdown",
      "metadata": {
        "id": "EBWMpHGoxrnz",
        "colab_type": "text"
      },
      "source": [
        "### Import Prerequesties"
      ]
    },
    {
      "cell_type": "code",
      "metadata": {
        "id": "m6bRyFIkFhGj",
        "colab_type": "code",
        "colab": {}
      },
      "source": [
        "\n",
        "import os\n",
        "import re\n",
        "import json\n",
        "from collections import Counter\n",
        "from tensorflow.keras.models import Model\n",
        "from tensorflow.keras.applications import VGG16\n",
        "from tensorflow.keras.callbacks import ModelCheckpoint\n",
        "from tensorflow.keras.preprocessing.text import Tokenizer\n",
        "from tensorflow.keras.applications.vgg16 import preprocess_input\n",
        "from tensorflow.keras.preprocessing.image import load_img, img_to_array\n",
        "from tensorflow.keras.layers import Dense, LSTM, Dropout, Embedding, Multiply"
      ],
      "execution_count": 0,
      "outputs": []
    },
    {
      "cell_type": "code",
      "metadata": {
        "id": "ZOGILD3IxLAG",
        "colab_type": "code",
        "outputId": "d8cf6241-a737-4483-c6b1-4ef66f311f9c",
        "colab": {
          "base_uri": "https://localhost:8080/",
          "height": 34
        }
      },
      "source": [
        "from google.colab import drive\n",
        "drive.mount('/content/drive')"
      ],
      "execution_count": 2,
      "outputs": [
        {
          "output_type": "stream",
          "text": [
            "Drive already mounted at /content/drive; to attempt to forcibly remount, call drive.mount(\"/content/drive\", force_remount=True).\n"
          ],
          "name": "stdout"
        }
      ]
    },
    {
      "cell_type": "markdown",
      "metadata": {
        "id": "s-5xC8j0y1xk",
        "colab_type": "text"
      },
      "source": [
        "### Set Parameters"
      ]
    },
    {
      "cell_type": "code",
      "metadata": {
        "id": "xVebfTOqy64y",
        "colab_type": "code",
        "colab": {}
      },
      "source": [
        "DROPOUT_RATE = 0.5\n",
        "EMBEDDING_DIM = 300\n",
        "EPOCHS = 10\n",
        "BATCH_SIZE = 256\n",
        "\n",
        "BASE_PATH = '/content/drive/My Drive/Persian_VQA/'\n",
        "QUESTION_TRAIN_PATH =   os.path.join(BASE_PATH, 'google-train_questions.json')\n",
        "ANNOTATION_TRAIN_PATH = os.path.join(BASE_PATH, 'google-train-annotations.json')\n",
        "IMAGE_TRAIN_PATH = os.path.join(BASE_PATH, 'train_images_1000')\n",
        "\n",
        "QUESTION_VAL_PATH =   os.path.join(BASE_PATH, '...')\n",
        "ANNOTATION_VAL_PATH = os.path.join(BASE_PATH, '...')\n",
        "IMAGE_VAL_PATH = os.path.join(BASE_PATH, '...')\n",
        "\n",
        "QUESTION_TEST_PATH =   os.path.join(BASE_PATH, '...')\n",
        "ANNOTATION_TEST_PATH = os.path.join(BASE_PATH, '...')\n",
        "IMAGE_TEST_PATH = os.path.join(BASE_PATH, '...')"
      ],
      "execution_count": 0,
      "outputs": []
    },
    {
      "cell_type": "markdown",
      "metadata": {
        "id": "CqyLy7lGxky7",
        "colab_type": "text"
      },
      "source": [
        "### Read Data"
      ]
    },
    {
      "cell_type": "code",
      "metadata": {
        "id": "pqUbnuOP7po5",
        "colab_type": "code",
        "colab": {}
      },
      "source": [
        "def read_image_paths(dir_path):\n",
        "  ims = {}\n",
        "\n",
        "  for filename in os.listdir(dir_path):\n",
        "    if filename.endswith('.jpg'):\n",
        "      image_id = int(re.findall('\\d+', filename)[1])\n",
        "      ims[image_id] = os.path.join(dir_path, filename)\n",
        "\n",
        "  return ims"
      ],
      "execution_count": 0,
      "outputs": []
    },
    {
      "cell_type": "code",
      "metadata": {
        "id": "5nPmc00L4m82",
        "colab_type": "code",
        "colab": {}
      },
      "source": [
        "def load_and_proccess_image(image_path):\n",
        "  im = img_to_array(load_img(image_path))\n",
        "  im = preprocess_input(im)\n",
        "\n",
        "  base_model = VGG16(weights='imagenet', include_top=False)\n",
        "  model = Model(inputs=base_model.input, outputs=base_model.get_layer('...').output)\n",
        "\n",
        "  im = img_to_array(load_img(image_path))\n",
        "  x = image.img_to_array(img)\n",
        "  x = np.expand_dims(x, axis=0)\n",
        "  x = preprocess_input(x)\n",
        "\n",
        "  features = model.predict(x)\n",
        "  \n",
        "  return features"
      ],
      "execution_count": 0,
      "outputs": []
    },
    {
      "cell_type": "code",
      "metadata": {
        "id": "n_Lp_PrD4xYW",
        "colab_type": "code",
        "colab": {}
      },
      "source": [
        "def read_images(paths):\n",
        "  ims = {}\n",
        "  for image_id, image_path in paths.items():\n",
        "    ims[image_id] = load_and_proccess_image(image_path)\n",
        "  return ims"
      ],
      "execution_count": 0,
      "outputs": []
    },
    {
      "cell_type": "code",
      "metadata": {
        "id": "GUST7ALI5Q8Q",
        "colab_type": "code",
        "colab": {}
      },
      "source": [
        "def get_train_image_paths():\n",
        "  return read_image_paths(IMAGE_TRAIN_PATH)"
      ],
      "execution_count": 0,
      "outputs": []
    },
    {
      "cell_type": "code",
      "metadata": {
        "id": "v7VzGiePlTJs",
        "colab_type": "code",
        "colab": {}
      },
      "source": [
        "def get_test_image_paths():\n",
        "  return read_image_paths(IMAGE_TEST_PATH)"
      ],
      "execution_count": 0,
      "outputs": []
    },
    {
      "cell_type": "code",
      "metadata": {
        "id": "dJBqQMXBwtuH",
        "colab_type": "code",
        "colab": {}
      },
      "source": [
        "def create_dataset(ims, qs, ann):\n",
        "  qs = []\n",
        "  answers = []\n",
        "  qs_id = []\n",
        "\n",
        "  for q in qs['questions']:\n",
        "    if q['image_id'] in ims.keys():\n",
        "      qs.append(q['question'])\n",
        "      qs_id.append(q['question_id'])\n",
        "\n",
        "  for ann in ann['annotations']:\n",
        "    if ann['question_id'] in qs_id:\n",
        "      answer_counts = Counter(a['answer'] for a in ann['answers'])\n",
        "      answers.append(answer_counts.most_common(1)[0][0])\n",
        "\n",
        "  return qs, answers, qs_id, ims.keys()\n",
        "\n"
      ],
      "execution_count": 0,
      "outputs": []
    },
    {
      "cell_type": "code",
      "metadata": {
        "id": "qTqIiXJnK6Uv",
        "colab_type": "code",
        "colab": {}
      },
      "source": [
        "def get_train_dataset():\n",
        "  ims = get_train_image_paths()\n",
        "  qs = json.load( open(QUESTION_TRAIN_PATH))\n",
        "  ann = json.load( open(ANNOTATION_TRAIN_PATH))\n",
        "  \n",
        "  return create_dataset(ims, qs, ann)"
      ],
      "execution_count": 0,
      "outputs": []
    },
    {
      "cell_type": "code",
      "metadata": {
        "id": "QZ6eQ8HOPI1P",
        "colab_type": "code",
        "colab": {}
      },
      "source": [
        "def get_test_dataset():\n",
        "  ims = get_test_image_paths()\n",
        "  qs = json.load( open(QUESTION_TEST_PATH))\n",
        "  ann = json.load( open(ANNOTATION_TEST_PATH))\n",
        "  \n",
        "  return create_dataset(ims, qs, ann)"
      ],
      "execution_count": 0,
      "outputs": []
    },
    {
      "cell_type": "code",
      "metadata": {
        "id": "6aZM3F6EH3PE",
        "colab_type": "code",
        "colab": {
          "base_uri": "https://localhost:8080/",
          "height": 84
        },
        "outputId": "4c6c1443-3663-41f1-def5-f92dd143ee1e"
      },
      "source": [
        "train_qs, train_answers, train_q_ids, train_image_ids = get_train_dataset()\n",
        "# test_qs, test_answers, test_q_ids, test_image_ids = get_test_dataset()\n",
        "\n",
        "# print(len(train_qs))\n",
        "# print(len(train_answers))\n",
        "# print(len(train_q_ids))\n",
        "# print(len(train_image_ids))"
      ],
      "execution_count": 22,
      "outputs": [
        {
          "output_type": "stream",
          "text": [
            "3000\n",
            "3000\n",
            "3000\n",
            "1000\n"
          ],
          "name": "stdout"
        }
      ]
    },
    {
      "cell_type": "code",
      "metadata": {
        "id": "oO9LTTruMo9J",
        "colab_type": "code",
        "colab": {}
      },
      "source": [
        "tokenizer = Tokenizer()\n",
        "tokenizer.fit_on_texts(train_qs)\n",
        "\n",
        "train_X_seqs = tokenizer.texts_to_matrix(train_qs)\n",
        "# test_X_seqs = tokenizer.texts_to_matrix(test_qs)\n",
        "\n",
        "train_ims = read_images(get_train_image_paths())\n",
        "#test_ims = read_images(get_test_image_paths())\n",
        "\n",
        "train_X_ims = [train_ims[id] for id in train_image_ids]\n",
        "# test_X_ims = [test_ims[id] for id in test_image_ids]\n",
        "\n",
        "train_Y = ...\n",
        "test_Y = ...\n",
        "\n",
        "train_X_seqs = np.array(train_X_seqs)\n",
        "# test_X_seqs = np.array(test_X_seqs)\n",
        "\n",
        "train_X_ims = np.array(train_X_ims)\n",
        "# test_X_ims = np.array(test_X_ims)"
      ],
      "execution_count": 0,
      "outputs": []
    },
    {
      "cell_type": "markdown",
      "metadata": {
        "id": "OfX_W-R74nJH",
        "colab_type": "text"
      },
      "source": [
        "### Build Vanilla Network"
      ]
    },
    {
      "cell_type": "code",
      "metadata": {
        "id": "C_4z0GKrA4Lc",
        "colab_type": "code",
        "colab": {}
      },
      "source": [
        "def img_model(img_input):\n",
        "  x = Dense(1024, activation='tanh', input_dim = 4096)(img_input)\n",
        "\n",
        "  return model\n"
      ],
      "execution_count": 0,
      "outputs": []
    },
    {
      "cell_type": "code",
      "metadata": {
        "id": "XM29KNZPBCMa",
        "colab_type": "code",
        "colab": {}
      },
      "source": [
        "def qs_model(qs_input, num_words, embedding_dim, dropout_rate):\n",
        "\n",
        "  x = Embedding(num_words, embedding_dim)(qs_input)\n",
        "  x = LSTM(units=512, return_sequences=True, input_shape= (None,embedding_dim))(x)\n",
        "  x = Dropout(dropout_rate)(x)\n",
        "  x = LSTM(units=512, return_sequences=False)(x)\n",
        "  x = Dropout(dropout_rate)(x)\n",
        "  x = Dense(1024, activation='tanh')(x)\n",
        "\n",
        "  return x"
      ],
      "execution_count": 0,
      "outputs": []
    },
    {
      "cell_type": "code",
      "metadata": {
        "id": "vP_NNUBE4uoj",
        "colab_type": "code",
        "colab": {}
      },
      "source": [
        "def vanilla(num_classes, dropout_rate, num_words, embedding_dim):\n",
        "  qs_input = ...\n",
        "  img_input = ...\n",
        "\n",
        "  CNN_model = img_model(img_input)\n",
        "  LSTM_model = qs_model(qs_input, num_words, embedding_dim, dropout_rate)\n",
        "\n",
        "  x = Multiply([CNN_model, LSTM_model])\n",
        "  x = Dropout(dropout_rate)(x)\n",
        "  x = Dense(1000, activation='tanh')(x)\n",
        "  x = Dropout(dropout_rate)(x)\n",
        "  output = Dense(num_classes, activation='softmax')(x)\n",
        "  \n",
        "  model = Model(inputs= [qs_input, img_input], outputs= output)\n",
        "  return model"
      ],
      "execution_count": 0,
      "outputs": []
    },
    {
      "cell_type": "markdown",
      "metadata": {
        "id": "iH-EWGFhw8lo",
        "colab_type": "text"
      },
      "source": [
        "### Train"
      ]
    },
    {
      "cell_type": "code",
      "metadata": {
        "id": "oJqRDTTHw_eO",
        "colab_type": "code",
        "colab": {}
      },
      "source": [
        "def Train():\n",
        "  num_classes = ...\n",
        "  num_words = ...\n",
        "  checkpointer = ModelCheckpoint(...)\n",
        "\n",
        "  model = vanilla(num_classes, DROPOUT_RATE, num_words, EMBEDDING_DIM)\n",
        "  model.comile(optimizer='rmsprop', loss='categorical_crossentropy', metrics=['accuracy'])\n",
        "  modle.fit(x_train,y_train, epochs = EPOCHS, batch_size = BATCH_SIZE, callbacks = [checkpointer])\n"
      ],
      "execution_count": 0,
      "outputs": []
    },
    {
      "cell_type": "markdown",
      "metadata": {
        "id": "m4OteN2u22vj",
        "colab_type": "text"
      },
      "source": [
        "### Evaluate"
      ]
    },
    {
      "cell_type": "code",
      "metadata": {
        "id": "Gw6YCB6t24ms",
        "colab_type": "code",
        "colab": {}
      },
      "source": [
        "def Evaluation():\n",
        "  return true\n",
        "  "
      ],
      "execution_count": 0,
      "outputs": []
    }
  ]
}